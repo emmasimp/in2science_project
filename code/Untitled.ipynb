{
 "cells": [
  {
   "cell_type": "code",
   "execution_count": null,
   "id": "455ee90c",
   "metadata": {},
   "outputs": [],
   "source": [
    "data.rename(columns={'ob_date':'date'},inplace=True)"
   ]
  },
  {
   "cell_type": "code",
   "execution_count": 25,
   "id": "d3a915f4",
   "metadata": {},
   "outputs": [],
   "source": [
    "import os\n",
    "import glob"
   ]
  },
  {
   "cell_type": "code",
   "execution_count": 2,
   "id": "a5459218",
   "metadata": {},
   "outputs": [],
   "source": [
    "path = './Data/CEDA/MIDAS-open/uk-daily-rain-obs/'"
   ]
  },
  {
   "cell_type": "code",
   "execution_count": 20,
   "id": "c77d5ad8",
   "metadata": {},
   "outputs": [],
   "source": [
    "locations = [x[0][41:] for x in os.walk(path)]"
   ]
  },
  {
   "cell_type": "code",
   "execution_count": 21,
   "id": "2877ea2e",
   "metadata": {},
   "outputs": [
    {
     "data": {
      "text/plain": [
       "['',\n",
       " 'dounreay',\n",
       " 'north-ronaldsay-gerbo',\n",
       " 'sule-skerry',\n",
       " 'scatsta',\n",
       " 'lerwick',\n",
       " 'fair-isle',\n",
       " 'hamnavoe',\n",
       " 'sella-ness',\n",
       " 'baltasound-no-2',\n",
       " 'wick-airport',\n",
       " 'costa',\n",
       " 'berriedale-langwell',\n",
       " 'halkirk-olgrinberg',\n",
       " 'rackwick',\n",
       " 'lybster',\n",
       " 'evie',\n",
       " 'orkney-loch-of-hundland',\n",
       " 'foula',\n",
       " 'weyland',\n",
       " 'collafirth',\n",
       " 'kirkwall',\n",
       " 'baltasound',\n",
       " 'stenness']"
      ]
     },
     "execution_count": 21,
     "metadata": {},
     "output_type": "execute_result"
    }
   ],
   "source": [
    "# options for location A and B dropdown\n",
    "locations"
   ]
  },
  {
   "cell_type": "code",
   "execution_count": 44,
   "id": "d7423fa8",
   "metadata": {},
   "outputs": [],
   "source": [
    "files = glob.glob(path+locations[1]+'/*.csv')"
   ]
  },
  {
   "cell_type": "code",
   "execution_count": 46,
   "id": "36eeed0e",
   "metadata": {},
   "outputs": [],
   "source": [
    "years = [x[-8:-4] for x in files]\n"
   ]
  },
  {
   "cell_type": "code",
   "execution_count": 48,
   "id": "fce5dc28",
   "metadata": {},
   "outputs": [
    {
     "data": {
      "text/plain": [
       "['1982',\n",
       " '1973',\n",
       " '1983',\n",
       " '1971',\n",
       " '1962',\n",
       " '1974',\n",
       " '1967',\n",
       " '1975',\n",
       " '1980',\n",
       " '1981',\n",
       " '1964',\n",
       " '1977',\n",
       " '1966',\n",
       " '1970',\n",
       " '1972',\n",
       " '1965',\n",
       " '1969',\n",
       " '1961',\n",
       " '1968',\n",
       " '1979',\n",
       " '1963',\n",
       " '1978',\n",
       " '1976']"
      ]
     },
     "execution_count": 48,
     "metadata": {},
     "output_type": "execute_result"
    }
   ],
   "source": [
    "# years available for locations\n",
    "years"
   ]
  },
  {
   "cell_type": "code",
   "execution_count": null,
   "id": "28dadf7d",
   "metadata": {},
   "outputs": [],
   "source": []
  }
 ],
 "metadata": {
  "kernelspec": {
   "display_name": "Python 3 (ipykernel)",
   "language": "python",
   "name": "python3"
  },
  "language_info": {
   "codemirror_mode": {
    "name": "ipython",
    "version": 3
   },
   "file_extension": ".py",
   "mimetype": "text/x-python",
   "name": "python",
   "nbconvert_exporter": "python",
   "pygments_lexer": "ipython3",
   "version": "3.7.12"
  }
 },
 "nbformat": 4,
 "nbformat_minor": 5
}
